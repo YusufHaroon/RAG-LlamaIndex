{
 "cells": [
  {
   "cell_type": "markdown",
   "id": "6580c5d6",
   "metadata": {},
   "source": [
    "## RAG Pipeline using LlamaIndex\n",
    "This notebook will create a RAG pipeline using LlamaIndex. There are 5 key stages in RAGs listed as: Loading the data, Indexing the data, Storing the data, Querying the data, and then Evaluation"
   ]
  },
  {
   "cell_type": "markdown",
   "id": "ab63a0fa",
   "metadata": {},
   "source": [
    "#### Loading and Embedding Documents\n",
    "There are three main ways to load data into LlamaIndex:\n",
    "\n",
    "1. SimpleDirectoryReader: A built-in loader for various file types from a local directory.\n",
    "2. LlamaParse: LlamaParse, LlamaIndex’s official tool for PDF parsing, available as a managed API.\n",
    "3. LlamaHub: A registry of hundreds of data-loading libraries to ingest data from any source.\n"
   ]
  },
  {
   "cell_type": "code",
   "execution_count": 1,
   "id": "35a7d9d1",
   "metadata": {},
   "outputs": [],
   "source": [
    "from llama_index.core import SimpleDirectoryReader\n",
    "\n",
    "reader = SimpleDirectoryReader(input_dir = \"Documents\")     # Add proper path to where documents are stored\n",
    "documents = reader.load_data()"
   ]
  },
  {
   "cell_type": "markdown",
   "id": "879b8c81",
   "metadata": {},
   "source": [
    "After loading the documents, we will break them into smaller pieces called Nodes. We will use the IngestionPipeline to help us create these nodes. We will use SentenceSplitter to break down documents into manageable chunks and HuggingFaceEmbedding to convert each chunk into numerical embeddings."
   ]
  },
  {
   "cell_type": "code",
   "execution_count": 6,
   "id": "e99c1cd6",
   "metadata": {},
   "outputs": [
    {
     "data": {
      "application/vnd.jupyter.widget-view+json": {
       "model_id": "b3927021354041eab49c34f8927d6a4a",
       "version_major": 2,
       "version_minor": 0
      },
      "text/plain": [
       "modules.json:   0%|          | 0.00/349 [00:00<?, ?B/s]"
      ]
     },
     "metadata": {},
     "output_type": "display_data"
    },
    {
     "name": "stderr",
     "output_type": "stream",
     "text": [
      "c:\\Users\\DELL\\AppData\\Local\\Programs\\Python\\Python313\\Lib\\site-packages\\huggingface_hub\\file_download.py:143: UserWarning: `huggingface_hub` cache-system uses symlinks by default to efficiently store duplicated files but your machine does not support them in C:\\Users\\DELL\\AppData\\Local\\llama_index\\llama_index\\Cache\\models--BAAI--bge-small-en-v1.5. Caching files will still work but in a degraded version that might require more space on your disk. This warning can be disabled by setting the `HF_HUB_DISABLE_SYMLINKS_WARNING` environment variable. For more details, see https://huggingface.co/docs/huggingface_hub/how-to-cache#limitations.\n",
      "To support symlinks on Windows, you either need to activate Developer Mode or to run Python as an administrator. In order to activate developer mode, see this article: https://docs.microsoft.com/en-us/windows/apps/get-started/enable-your-device-for-development\n",
      "  warnings.warn(message)\n"
     ]
    },
    {
     "data": {
      "application/vnd.jupyter.widget-view+json": {
       "model_id": "f5c770226ef24e5eb29d87e287c271c1",
       "version_major": 2,
       "version_minor": 0
      },
      "text/plain": [
       "config_sentence_transformers.json:   0%|          | 0.00/124 [00:00<?, ?B/s]"
      ]
     },
     "metadata": {},
     "output_type": "display_data"
    },
    {
     "data": {
      "application/vnd.jupyter.widget-view+json": {
       "model_id": "3f89c03dcfce4a8191d82ea2293b40d8",
       "version_major": 2,
       "version_minor": 0
      },
      "text/plain": [
       "README.md: 0.00B [00:00, ?B/s]"
      ]
     },
     "metadata": {},
     "output_type": "display_data"
    },
    {
     "data": {
      "application/vnd.jupyter.widget-view+json": {
       "model_id": "ac1b4134d91c40a5ad818a85a7e550dd",
       "version_major": 2,
       "version_minor": 0
      },
      "text/plain": [
       "sentence_bert_config.json:   0%|          | 0.00/52.0 [00:00<?, ?B/s]"
      ]
     },
     "metadata": {},
     "output_type": "display_data"
    },
    {
     "data": {
      "application/vnd.jupyter.widget-view+json": {
       "model_id": "90c40d7b57324f519b3574cd3e0600aa",
       "version_major": 2,
       "version_minor": 0
      },
      "text/plain": [
       "config.json:   0%|          | 0.00/743 [00:00<?, ?B/s]"
      ]
     },
     "metadata": {},
     "output_type": "display_data"
    },
    {
     "data": {
      "application/vnd.jupyter.widget-view+json": {
       "model_id": "405d064344f649198186f92f67b7f349",
       "version_major": 2,
       "version_minor": 0
      },
      "text/plain": [
       "model.safetensors:   0%|          | 0.00/133M [00:00<?, ?B/s]"
      ]
     },
     "metadata": {},
     "output_type": "display_data"
    },
    {
     "data": {
      "application/vnd.jupyter.widget-view+json": {
       "model_id": "c4605615e845439c8b5a087174bf036c",
       "version_major": 2,
       "version_minor": 0
      },
      "text/plain": [
       "tokenizer_config.json:   0%|          | 0.00/366 [00:00<?, ?B/s]"
      ]
     },
     "metadata": {},
     "output_type": "display_data"
    },
    {
     "data": {
      "application/vnd.jupyter.widget-view+json": {
       "model_id": "4ae21312c42c48dea6ad2df530150b11",
       "version_major": 2,
       "version_minor": 0
      },
      "text/plain": [
       "vocab.txt: 0.00B [00:00, ?B/s]"
      ]
     },
     "metadata": {},
     "output_type": "display_data"
    },
    {
     "data": {
      "application/vnd.jupyter.widget-view+json": {
       "model_id": "39ad2d61925c4da99b089707bb9e7a51",
       "version_major": 2,
       "version_minor": 0
      },
      "text/plain": [
       "tokenizer.json: 0.00B [00:00, ?B/s]"
      ]
     },
     "metadata": {},
     "output_type": "display_data"
    },
    {
     "data": {
      "application/vnd.jupyter.widget-view+json": {
       "model_id": "c8a6a3b9c4ec47ccbd77613289ca972b",
       "version_major": 2,
       "version_minor": 0
      },
      "text/plain": [
       "special_tokens_map.json:   0%|          | 0.00/125 [00:00<?, ?B/s]"
      ]
     },
     "metadata": {},
     "output_type": "display_data"
    },
    {
     "data": {
      "application/vnd.jupyter.widget-view+json": {
       "model_id": "ebb955d81e704307a750cf9578337fba",
       "version_major": 2,
       "version_minor": 0
      },
      "text/plain": [
       "config.json:   0%|          | 0.00/190 [00:00<?, ?B/s]"
      ]
     },
     "metadata": {},
     "output_type": "display_data"
    }
   ],
   "source": [
    "from llama_index.core import Document\n",
    "from llama_index.embeddings.huggingface import HuggingFaceEmbedding\n",
    "from llama_index.core.node_parser import SentenceSplitter\n",
    "from llama_index.core.ingestion import IngestionPipeline\n",
    "\n",
    "pipeline = IngestionPipeline(\n",
    "    transformations = [\n",
    "        SentenceSplitter(chunk_overlap = 0),\n",
    "        HuggingFaceEmbedding(model_name = \"BAAI/bge-small-en-v1.5\"), #Make sure you are login to HuggingFace and have a token, you can see it from the terminal by using huggingface-cli login\n",
    "    ]\n",
    ")\n",
    "\n",
    "# The pipeline defined here is SentenceSplitter -> HuggingFaceEmbeddings\n",
    "\n",
    "nodes = await pipeline.arun(documents = documents)\n",
    "# This will save the transformed chunks of documents into the node variable"
   ]
  }
 ],
 "metadata": {
  "kernelspec": {
   "display_name": "Python 3",
   "language": "python",
   "name": "python3"
  },
  "language_info": {
   "codemirror_mode": {
    "name": "ipython",
    "version": 3
   },
   "file_extension": ".py",
   "mimetype": "text/x-python",
   "name": "python",
   "nbconvert_exporter": "python",
   "pygments_lexer": "ipython3",
   "version": "3.13.5"
  }
 },
 "nbformat": 4,
 "nbformat_minor": 5
}
